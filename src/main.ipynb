{
 "cells": [
  {
   "cell_type": "markdown",
   "metadata": {},
   "source": [
    "### 1. Data Preprocessing\n"
   ]
  },
  {
   "cell_type": "markdown",
   "metadata": {},
   "source": [
    "[Dataset](https://www.kaggle.com/datasets/mlg-ulb/creditcardfraud) - place csv file in /src/data\n"
   ]
  },
  {
   "cell_type": "code",
   "execution_count": 1,
   "metadata": {},
   "outputs": [
    {
     "name": "stderr",
     "output_type": "stream",
     "text": [
      "/home/rafal/.local/lib/python3.10/site-packages/pandas/core/computation/expressions.py:21: UserWarning: Pandas requires version '2.8.4' or newer of 'numexpr' (version '2.8.1' currently installed).\n",
      "  from pandas.core.computation.check import NUMEXPR_INSTALLED\n",
      "/home/rafal/.local/lib/python3.10/site-packages/pandas/core/arrays/masked.py:60: UserWarning: Pandas requires version '1.3.6' or newer of 'bottleneck' (version '1.3.2' currently installed).\n",
      "  from pandas.core import (\n",
      "/home/rafal/.local/lib/python3.10/site-packages/matplotlib/projections/__init__.py:63: UserWarning: Unable to import Axes3D. This may be due to multiple versions of Matplotlib being installed (e.g. as a system package and as a pip package). As a result, the 3D projection is not available.\n",
      "  warnings.warn(\"Unable to import Axes3D. This may be due to multiple versions of \"\n"
     ]
    }
   ],
   "source": [
    "import pandas as pd\n",
    "import matplotlib.pyplot as plt\n",
    "\n",
    "dataset = pd.read_csv('./data/creditcard.csv')"
   ]
  },
  {
   "cell_type": "code",
   "execution_count": 2,
   "metadata": {},
   "outputs": [
    {
     "data": {
      "text/plain": [
       "Index(['Time', 'V1', 'V2', 'V3', 'V4', 'V5', 'V6', 'V7', 'V8', 'V9', 'V10',\n",
       "       'V11', 'V12', 'V13', 'V14', 'V15', 'V16', 'V17', 'V18', 'V19', 'V20',\n",
       "       'V21', 'V22', 'V23', 'V24', 'V25', 'V26', 'V27', 'V28', 'Amount',\n",
       "       'Class'],\n",
       "      dtype='object')"
      ]
     },
     "execution_count": 2,
     "metadata": {},
     "output_type": "execute_result"
    }
   ],
   "source": [
    "dataset.keys()"
   ]
  },
  {
   "cell_type": "code",
   "execution_count": 3,
   "metadata": {},
   "outputs": [
    {
     "data": {
      "text/plain": [
       "Class\n",
       "0    284315\n",
       "1       492\n",
       "Name: count, dtype: int64"
      ]
     },
     "execution_count": 3,
     "metadata": {},
     "output_type": "execute_result"
    }
   ],
   "source": [
    "dataset['Class'].value_counts()"
   ]
  },
  {
   "cell_type": "code",
   "execution_count": 4,
   "metadata": {},
   "outputs": [],
   "source": [
    "from sklearn.model_selection import train_test_split\n",
    "\n",
    "\n",
    "# stratified split\n",
    "positive_cases = dataset[dataset['Class'] == 1]\n",
    "negative_cases = dataset[dataset['Class'] == 0]\n",
    "\n",
    "train_pos, test_pos = train_test_split(\n",
    "    positive_cases, test_size=0.2, random_state=42)\n",
    "train_neg, test_neg = train_test_split(\n",
    "    negative_cases, test_size=0.2, random_state=42)\n",
    "\n",
    "train_pos_X, train_pos_y = train_pos.drop('Class', axis=1), train_pos['Class']\n",
    "train_neg_X, train_neg_y = train_neg.drop('Class', axis=1), train_neg['Class']\n",
    "\n",
    "test_pos_X, test_pos_y = test_pos.drop('Class', axis=1), test_pos['Class']\n",
    "test_neg_X, test_neg_y = test_neg.drop('Class', axis=1), test_neg['Class']\n",
    "\n",
    "train_X = pd.concat([train_pos_X, train_neg_X])\n",
    "train_y = pd.concat([train_pos_y, train_neg_y])\n",
    "\n",
    "test_X = pd.concat([test_pos_X, test_neg_X])\n",
    "test_y = pd.concat([test_pos_y, test_neg_y])"
   ]
  },
  {
   "cell_type": "markdown",
   "metadata": {},
   "source": [
    "### 2. Model Training"
   ]
  },
  {
   "cell_type": "markdown",
   "metadata": {},
   "source": [
    "#### 2.1. Evaluation functions"
   ]
  },
  {
   "cell_type": "code",
   "execution_count": 5,
   "metadata": {},
   "outputs": [],
   "source": [
    "\n",
    "import numpy as np\n",
    "\n",
    "\n",
    "def confusion_matrix(y_true, y_pred):\n",
    "    tp = np.sum((y_true == 1) & (y_pred == 1))\n",
    "    tn = np.sum((y_true == 0) & (y_pred == 0))\n",
    "    fp = np.sum((y_true == 0) & (y_pred == 1))\n",
    "    fn = np.sum((y_true == 1) & (y_pred == 0))\n",
    "    return tp, tn, fp, fn\n",
    "\n",
    "\n",
    "def recall(y_true, y_pred):\n",
    "    tp, tn, fp, fn = confusion_matrix(y_true, y_pred)\n",
    "    return tp / (tp + fn)\n",
    "\n",
    "\n",
    "def precision(y_true, y_pred):\n",
    "    tp, tn, fp, fn = confusion_matrix(y_true, y_pred)\n",
    "    if tp + fp == 0:\n",
    "        return 0\n",
    "    return tp / (tp + fp)\n",
    "\n",
    "\n",
    "def f1score(y_true, y_pred):\n",
    "    rec = recall(y_true, y_pred)\n",
    "    prec = precision(y_true, y_pred)\n",
    "    return 2 * (rec * prec) / (rec + prec)"
   ]
  },
  {
   "cell_type": "code",
   "execution_count": 6,
   "metadata": {},
   "outputs": [],
   "source": [
    "def calculate_roc_curve(y_true, y_scores):\n",
    "    thresholds = np.sort(y_scores)\n",
    "    tpr = []\n",
    "    fpr = []\n",
    "\n",
    "    for threshold in thresholds:\n",
    "        # Classify based on the threshold\n",
    "        predicted_class = (y_scores >= threshold).astype(int)\n",
    "\n",
    "        # Calculate true positives, false positives, true negatives, false negatives\n",
    "        tp = np.sum((predicted_class == 1) & (y_true == 1))\n",
    "        fp = np.sum((predicted_class == 1) & (y_true == 0))\n",
    "        tn = np.sum((predicted_class == 0) & (y_true == 0))\n",
    "        fn = np.sum((predicted_class == 0) & (y_true == 1))\n",
    "\n",
    "        # Calculate TPR and FPR\n",
    "        tpr.append(tp / (tp + fn))  # Sensitivity, True Positive Rate\n",
    "        fpr.append(fp / (fp + tn))  # 1 - Specificity, False Positive Rate\n",
    "\n",
    "    return np.array(fpr), np.array(tpr), thresholds\n",
    "\n",
    "\n",
    "def plot_roc(y_true, y_pred):\n",
    "    points_x, points_y, thresholds = roc(y_true, y_pred)\n",
    "    plt.plot(points_x, points_y)\n",
    "    plt.plot([0, 1], [0, 1], 'k--')\n",
    "    plt.xlabel('False Positive Rate')\n",
    "    plt.ylabel('True Positive Rate')\n",
    "    plt.title('ROC Curve')\n",
    "    plt.show()"
   ]
  },
  {
   "cell_type": "markdown",
   "metadata": {},
   "source": [
    "#### 2.2 Logistic Regression"
   ]
  },
  {
   "cell_type": "code",
   "execution_count": 7,
   "metadata": {},
   "outputs": [
    {
     "name": "stdout",
     "output_type": "stream",
     "text": [
      "              precision    recall  f1-score   support\n",
      "\n",
      "           0       1.00      1.00      1.00     56863\n",
      "           1       0.86      0.60      0.70        99\n",
      "\n",
      "    accuracy                           1.00     56962\n",
      "   macro avg       0.93      0.80      0.85     56962\n",
      "weighted avg       1.00      1.00      1.00     56962\n",
      "\n"
     ]
    },
    {
     "name": "stderr",
     "output_type": "stream",
     "text": [
      "c:\\Users\\Hanna\\AppData\\Local\\Programs\\Python\\Python310\\lib\\site-packages\\sklearn\\linear_model\\_logistic.py:465: ConvergenceWarning: lbfgs failed to converge (status=1):\n",
      "STOP: TOTAL NO. of ITERATIONS REACHED LIMIT.\n",
      "\n",
      "Increase the number of iterations (max_iter) or scale the data as shown in:\n",
      "    https://scikit-learn.org/stable/modules/preprocessing.html\n",
      "Please also refer to the documentation for alternative solver options:\n",
      "    https://scikit-learn.org/stable/modules/linear_model.html#logistic-regression\n",
      "  n_iter_i = _check_optimize_result(\n"
     ]
    }
   ],
   "source": [
    "from sklearn.linear_model import LogisticRegression\n",
    "from sklearn.metrics import classification_report\n",
    "\n",
    "linear_regression_model = LogisticRegression(max_iter=1000)\n",
    "linear_regression_model.fit(train_X, train_y)\n",
    "\n",
    "lr_predictions = linear_regression_model.predict_proba(test_X)[:, 1]\n",
    "lr_predictions_binary = (lr_predictions >= 0.5).astype(int)\n",
    "\n",
    "print(classification_report(test_y, lr_predictions_binary))"
   ]
  },
  {
   "cell_type": "markdown",
   "metadata": {},
   "source": [
    "#### 2.3 Random Forest"
   ]
  },
  {
   "cell_type": "code",
   "execution_count": 109,
   "metadata": {},
   "outputs": [
    {
     "name": "stdout",
     "output_type": "stream",
     "text": [
      "              precision    recall  f1-score   support\n",
      "\n",
      "           0       1.00      1.00      1.00     56863\n",
      "           1       0.90      0.71      0.79        99\n",
      "\n",
      "    accuracy                           1.00     56962\n",
      "   macro avg       0.95      0.85      0.90     56962\n",
      "weighted avg       1.00      1.00      1.00     56962\n",
      "\n"
     ]
    }
   ],
   "source": [
    "from sklearn.metrics import classification_report\n",
    "from sklearn.ensemble import RandomForestClassifier\n",
    "\n",
    "random_forest_model = RandomForestClassifier(\n",
    "    n_estimators=100, random_state=42, max_depth=5)\n",
    "random_forest_model.fit(train_X, train_y)\n",
    "\n",
    "rf_predictions = random_forest_model.predict_proba(test_X)[:, 1]\n",
    "rf_predictions_binary = (rf_predictions >= 0.5).astype(int)\n",
    "\n",
    "print(classification_report(test_y, rf_predictions_binary))"
   ]
  },
  {
   "cell_type": "markdown",
   "metadata": {},
   "source": [
    "#### 2.4 KNN"
   ]
  },
  {
   "cell_type": "code",
   "execution_count": 110,
   "metadata": {},
   "outputs": [
    {
     "name": "stdout",
     "output_type": "stream",
     "text": [
      "              precision    recall  f1-score   support\n",
      "\n",
      "           0       1.00      1.00      1.00     56863\n",
      "           1       0.13      0.25      0.17        99\n",
      "\n",
      "    accuracy                           1.00     56962\n",
      "   macro avg       0.56      0.62      0.58     56962\n",
      "weighted avg       1.00      1.00      1.00     56962\n",
      "\n"
     ]
    }
   ],
   "source": [
    "from sklearn.neighbors import KNeighborsClassifier\n",
    "from sklearn.metrics import classification_report\n",
    "\n",
    "knn_model = KNeighborsClassifier(n_neighbors=5)\n",
    "knn_model.fit(train_X, train_y)\n",
    "\n",
    "knn_predictions = knn_model.predict_proba(test_X)[:, 1]\n",
    "knn_predictions_binary = (knn_predictions > 0).astype(int)\n",
    "\n",
    "print(classification_report(test_y, knn_predictions_binary))"
   ]
  },
  {
   "cell_type": "markdown",
   "metadata": {},
   "source": [
    "#### 2.5 XGBoost"
   ]
  },
  {
   "cell_type": "code",
   "execution_count": 111,
   "metadata": {},
   "outputs": [
    {
     "name": "stderr",
     "output_type": "stream",
     "text": [
      "/usr/lib/python3/dist-packages/xgboost/sklearn.py:1224: UserWarning: The use of label encoder in XGBClassifier is deprecated and will be removed in a future release. To remove this warning, do the following: 1) Pass option use_label_encoder=False when constructing XGBClassifier object; and 2) Encode your labels (y) as integers starting with 0, i.e. 0, 1, 2, ..., [num_class - 1].\n",
      "  warnings.warn(label_encoder_deprecation_msg, UserWarning)\n"
     ]
    },
    {
     "name": "stdout",
     "output_type": "stream",
     "text": [
      "[19:04:54] WARNING: ./src/learner.cc:1115: Starting in XGBoost 1.3.0, the default evaluation metric used with the objective 'binary:logistic' was changed from 'error' to 'logloss'. Explicitly set eval_metric if you'd like to restore the old behavior.\n",
      "              precision    recall  f1-score   support\n",
      "\n",
      "           0       1.00      1.00      1.00     56863\n",
      "           1       0.93      0.79      0.85        99\n",
      "\n",
      "    accuracy                           1.00     56962\n",
      "   macro avg       0.96      0.89      0.93     56962\n",
      "weighted avg       1.00      1.00      1.00     56962\n",
      "\n"
     ]
    }
   ],
   "source": [
    "from xgboost import XGBClassifier\n",
    "from sklearn.metrics import classification_report\n",
    "import pandas as pd\n",
    "\n",
    "# Ensure compatibility with newer pandas versions\n",
    "if not hasattr(pd, 'Int64Index'):\n",
    "    pd.Int64Index = pd.Index\n",
    "\n",
    "xgb_model = XGBClassifier(n_estimators=100, random_state=42, max_depth=5)\n",
    "xgb_model.fit(train_X, train_y)\n",
    "\n",
    "xgb_predictions = xgb_model.predict_proba(test_X)[:, 1]\n",
    "xgb_predictions_binary = (xgb_predictions >= 0.5).astype(int)\n",
    "\n",
    "print(classification_report(test_y, xgb_predictions_binary))"
   ]
  },
  {
   "cell_type": "markdown",
   "metadata": {},
   "source": [
    "### 3. Model Evaluation"
   ]
  },
  {
   "cell_type": "markdown",
   "metadata": {},
   "source": [
    "#### Baseline Models"
   ]
  },
  {
   "cell_type": "code",
   "execution_count": 118,
   "metadata": {},
   "outputs": [
    {
     "data": {
      "text/plain": [
       "array([0.2, 0. , 0.2, ..., 0. , 0. , 0. ])"
      ]
     },
     "execution_count": 118,
     "metadata": {},
     "output_type": "execute_result"
    }
   ],
   "source": [
    "models = {\"Logistic Regression\": linear_regression_model,\n",
    "          \"Random Forest\": random_forest_model,\n",
    "          \"KNN\": knn_model,\n",
    "          \"XGBoost\": xgb_model}\n",
    "\n",
    "predictions = {\"Logistic Regression\": lr_predictions,\n",
    "               \"Random Forest\": rf_predictions,\n",
    "               \"KNN\": knn_predictions,\n",
    "               \"XGBoost\": xgb_predictions}\n",
    "\n",
    "model_threshold = {\"Logistic Regression\": 0.5,\n",
    "                   \"Random Forest\": 0.5,\n",
    "                   \"KNN\": 0.001,\n",
    "                   \"XGBoost\": 0.5}\n",
    "\n",
    "dir_name = {\"Logistic Regression\": \"LR\",\n",
    "            \"Random Forest\": \"RF\",\n",
    "            \"KNN\": \"KNN\",\n",
    "            \"XGBoost\": \"XGB\"}\n",
    "\n",
    "knn_predictions"
   ]
  },
  {
   "cell_type": "markdown",
   "metadata": {},
   "source": [
    "#### Improved Models"
   ]
  },
  {
   "cell_type": "code",
   "execution_count": 92,
   "metadata": {},
   "outputs": [],
   "source": [
    "models = {\"Logistic Regression\": im_linear_regression_model,\n",
    "          \"Random Forest\": im_random_forest_model,\n",
    "          \"KNN\": knn_model,\n",
    "          \"XGBoost\": im_xgb_model}\n",
    "\n",
    "predictions = {\"Logistic Regression\": im_lr_predictions,\n",
    "               \"Random Forest\": im_rf_predictions,\n",
    "               \"KNN\": knn_predictions,\n",
    "               \"XGBoost\": im_xgb_predictions}\n",
    "\n",
    "model_threshold = {\"Logistic Regression\": 0.5,\n",
    "                   \"Random Forest\": 0.5,\n",
    "                   \"KNN\": 0.001,\n",
    "                   \"XGBoost\": 0.5}\n",
    "\n",
    "dir_name = {\"Logistic Regression\": \"LR\",\n",
    "            \"Random Forest\": \"RF\",\n",
    "            \"KNN\": \"KNN\",\n",
    "            \"XGBoost\": \"XGB\"}"
   ]
  },
  {
   "cell_type": "markdown",
   "metadata": {},
   "source": [
    "#### 3.1 ROC Curve"
   ]
  },
  {
   "cell_type": "code",
   "execution_count": 113,
   "metadata": {},
   "outputs": [
    {
     "name": "stdout",
     "output_type": "stream",
     "text": [
      "Logistic Regression\n",
      "Random Forest\n",
      "KNN\n",
      "XGBoost\n"
     ]
    },
    {
     "data": {
      "image/png": "[encoded data removed]",
      "text/plain": [
       "<Figure size 640x480 with 1 Axes>"
      ]
     },
     "metadata": {},
     "output_type": "display_data"
    }
   ],
   "source": [
    "from sklearn.metrics import roc_curve\n",
    "\n",
    "for name, model in models.items():\n",
    "    print(name)\n",
    "    fpr, tpr, thresholds = roc_curve(test_y, predictions[name])\n",
    "    plt.plot(fpr, tpr, label=name)\n",
    "\n",
    "plt.plot([0, 1], [0, 1], 'k--')\n",
    "plt.xlabel('False Positive Rate')\n",
    "plt.ylabel('True Positive Rate')\n",
    "plt.title('ROC Curve')\n",
    "plt.legend()\n",
    "plt.savefig('./plots/roc_curve.png')\n",
    "plt.show()"
   ]
  },
  {
   "cell_type": "markdown",
   "metadata": {},
   "source": [
    "#### 3.2 Confusion Matrix"
   ]
  },
  {
   "cell_type": "code",
   "execution_count": 119,
   "metadata": {},
   "outputs": [
    {
     "name": "stdout",
     "output_type": "stream",
     "text": [
      "Logistic Regression\n",
      "[[56850    13]\n",
      " [   36    63]]\n",
      "Random Forest\n",
      "[[56855     8]\n",
      " [   29    70]]\n",
      "KNN\n",
      "[[56690   173]\n",
      " [   74    25]]\n",
      "XGBoost\n",
      "[[56857     6]\n",
      " [   21    78]]\n"
     ]
    }
   ],
   "source": [
    "from sklearn.metrics import confusion_matrix\n",
    "from sklearn.metrics import ConfusionMatrixDisplay\n",
    "from seaborn import heatmap\n",
    "\n",
    "for name, model in models.items():\n",
    "    print(name)\n",
    "    thr = model_threshold[name]\n",
    "    # thr = 0.5\n",
    "    print(confusion_matrix(test_y, (predictions[name] >= thr).astype(int)))\n",
    "\n",
    "    cm = confusion_matrix(test_y, (predictions[name] >= thr).astype(int))\n",
    "    # disp = ConfusionMatrixDisplay(\n",
    "    #     confusion_matrix=cm, display_labels=model.classes_)\n",
    "    # disp.plot()\n",
    "\n",
    "    # plt.xlabel('Predicted')\n",
    "    # plt.ylabel('True')\n",
    "    # plt.title(name)\n",
    "    # plt.savefig(f'./plots/{dir_name[name]}/confusion_matrix.png')\n",
    "    # plt.show()"
   ]
  },
  {
   "cell_type": "markdown",
   "metadata": {},
   "source": [
    "#### 3.3 Precision-Recall Curve"
   ]
  },
  {
   "cell_type": "code",
   "execution_count": 48,
   "metadata": {},
   "outputs": [
    {
     "name": "stdout",
     "output_type": "stream",
     "text": [
      "Logistic Regression\n",
      "Random Forest\n",
      "KNN\n",
      "XGBoost\n"
     ]
    },
    {
     "data": {
      "image/png": "[encoded data removed]",
      "text/plain": [
       "<Figure size 640x480 with 1 Axes>"
      ]
     },
     "metadata": {},
     "output_type": "display_data"
    }
   ],
   "source": [
    "from sklearn.metrics import precision_recall_curve\n",
    "\n",
    "for name, model in models.items():\n",
    "    print(name)\n",
    "    precision, recall, thresholds = precision_recall_curve(\n",
    "        test_y, predictions[name])\n",
    "    plt.plot(recall, precision, label=name)\n",
    "\n",
    "plt.xlabel('Recall')\n",
    "plt.ylabel('Precision')\n",
    "plt.title('Precision-Recall Curve')\n",
    "# plt.legend()\n",
    "plt.legend(loc='upper center', bbox_to_anchor=(\n",
    "    0.35, +0.2), ncol=2, framealpha=1)\n",
    "plt.savefig('./plots/precision_recall_curve.png')\n",
    "plt.show()"
   ]
  },
  {
   "cell_type": "markdown",
   "metadata": {},
   "source": [
    "#### 3.4 Precision, Recall, F1 Score, Accuracy Table"
   ]
  },
  {
   "cell_type": "code",
   "execution_count": 120,
   "metadata": {},
   "outputs": [
    {
     "name": "stdout",
     "output_type": "stream",
     "text": [
      "                 Model  Precision    Recall  F1 Score  Accuracy\n",
      "0  Logistic Regression   0.828947  0.636364  0.720000  0.999140\n",
      "1        Random Forest   0.897436  0.707071  0.790960  0.999350\n",
      "2                  KNN   0.126263  0.252525  0.168350  0.995664\n",
      "3              XGBoost   0.928571  0.787879  0.852459  0.999526\n"
     ]
    }
   ],
   "source": [
    "from sklearn.metrics import precision_score, recall_score, f1_score, accuracy_score\n",
    "\n",
    "# Initialize a dictionary to store the metrics\n",
    "metrics = {\"Model\": [], \"Precision\": [],\n",
    "           \"Recall\": [], \"F1 Score\": [], \"Accuracy\": []}\n",
    "\n",
    "# Calculate metrics for each model\n",
    "for name, model in models.items():\n",
    "    thr = model_threshold[name]\n",
    "    y_pred_binary = (predictions[name] >= thr).astype(int)\n",
    "    precision = precision_score(test_y, y_pred_binary)\n",
    "    recall = recall_score(test_y, y_pred_binary)\n",
    "    f1 = f1_score(test_y, y_pred_binary)\n",
    "    accuracy = accuracy_score(test_y, y_pred_binary)\n",
    "\n",
    "    metrics[\"Model\"].append(name)\n",
    "    metrics[\"Precision\"].append(precision)\n",
    "    metrics[\"Recall\"].append(recall)\n",
    "    metrics[\"F1 Score\"].append(f1)\n",
    "    metrics[\"Accuracy\"].append(accuracy)\n",
    "\n",
    "# Convert the metrics dictionary to a DataFrame for better visualization\n",
    "metrics_df = pd.DataFrame(metrics)\n",
    "print(metrics_df)"
   ]
  },
  {
   "cell_type": "code",
   "execution_count": 15,
   "metadata": {},
   "outputs": [
    {
     "name": "stdout",
     "output_type": "stream",
     "text": [
      "(492, 31) (284315, 31)\n"
     ]
    }
   ],
   "source": [
    "print(positive_cases.shape, negative_cases.shape)"
   ]
  },
  {
   "cell_type": "code",
   "execution_count": 165,
   "metadata": {},
   "outputs": [
    {
     "data": {
      "image/png": "[encoded data removed]",
      "text/plain": [
       "<Figure size 1000x600 with 2 Axes>"
      ]
     },
     "metadata": {},
     "output_type": "display_data"
    }
   ],
   "source": [
    "import numpy as np\n",
    "pos_count = []\n",
    "max_time = max(positive_cases[\"Time\"].max(), negative_cases[\"Time\"].max())\n",
    "N = 100\n",
    "times = np.linspace(0, max_time, N)\n",
    "cnt = 0\n",
    "for x in times:\n",
    "    pos_count.append(\n",
    "        positive_cases[(positive_cases[\"Time\"] < x)].shape[0] - cnt)\n",
    "    cnt = positive_cases[(positive_cases[\"Time\"] < x)].shape[0]\n",
    "\n",
    "neg_count = []\n",
    "cnt = 0\n",
    "for x in times:\n",
    "    neg_count.append(\n",
    "        negative_cases[(negative_cases[\"Time\"] < x)].shape[0] - cnt)\n",
    "    cnt = negative_cases[(negative_cases[\"Time\"] < x)].shape[0]\n",
    "\n",
    "f, (ax1, ax2) = plt.subplots(2, 1, sharex=True, figsize=(10, 6))\n",
    "f.suptitle('Time of transaction vs Amount by class')\n",
    "ax1.scatter(times, pos_count)\n",
    "ax1.set_title('Fraud')\n",
    "# ax1.set_xticks([0, 10800, 21600, 32400, 43200, 54000, 64800, 75600,\n",
    "#                86400, 97200, 108000, 118800, 129600, 140400, 151200, 162000, 172800])\n",
    "# ax1.set_xticklabels(['0', '3', '6', '9', '12', '15', '18',\n",
    "#                     '21', '24', '3', '6', '9', '12', '15', '18', '21', '24'])\n",
    "\n",
    "ax2.scatter(times, neg_count)\n",
    "ax2.set_title('Normal')\n",
    "plt.xlabel('Time (in Hours)')\n",
    "ax2.set_xticks([0, 10800, 21600, 32400, 43200, 54000, 64800, 75600, 86400,\n",
    "           97200, 108000, 118800, 129600, 140400, 151200, 162000, 172800], [0, 3, 6, 9, 12, 15, 18, 21, 24, 3, 6, 9, 12, 15, 18, 21, 24])\n",
    "# plt.xticks(np.arange(0, max_time, 48))\n",
    "plt.ylabel('Amount')\n",
    "plt.savefig('./plots/transaction_amount_vs_time.png')\n",
    "plt.show()"
   ]
  },
  {
   "cell_type": "markdown",
   "metadata": {},
   "source": [
    "#### 3.5 Prediction time"
   ]
  },
  {
   "cell_type": "code",
   "execution_count": null,
   "metadata": {},
   "outputs": [
    {
     "name": "stdout",
     "output_type": "stream",
     "text": [
      "56962\n",
      "Prediction time for Logistic Regression: 0.003841400146484375 seconds\n",
      "Prediction time for Random Forest: 0.1257932186126709 seconds\n",
      "Prediction time for XGBoost: 0.021852970123291016 seconds\n"
     ]
    }
   ],
   "source": [
    "import time\n",
    "\n",
    "print(len(test_X))\n",
    "for name, model in models.items():\n",
    "    # print(name)\n",
    "    start_time = time.time()\n",
    "    model.predict_proba(test_X)\n",
    "    end_time = time.time()\n",
    "\n",
    "    print(f\"Prediction time for {name}: {end_time - start_time} seconds\")"
   ]
  },
  {
   "cell_type": "markdown",
   "metadata": {},
   "source": [
    "### 4. Model Improvement"
   ]
  },
  {
   "cell_type": "markdown",
   "metadata": {},
   "source": [
    "#### 4.1 Logistic Regression"
   ]
  },
  {
   "cell_type": "code",
   "execution_count": 91,
   "metadata": {},
   "outputs": [
    {
     "name": "stderr",
     "output_type": "stream",
     "text": [
      "/home/rafal/.local/lib/python3.10/site-packages/sklearn/linear_model/_logistic.py:1271: UserWarning: 'n_jobs' > 1 does not have any effect when 'solver' is set to 'liblinear'. Got 'n_jobs' = 12.\n",
      "  warnings.warn(\n"
     ]
    },
    {
     "name": "stdout",
     "output_type": "stream",
     "text": [
      "              precision    recall  f1-score   support\n",
      "\n",
      "           0       1.00      1.00      1.00     56863\n",
      "           1       0.76      0.62      0.68        99\n",
      "\n",
      "    accuracy                           1.00     56962\n",
      "   macro avg       0.88      0.81      0.84     56962\n",
      "weighted avg       1.00      1.00      1.00     56962\n",
      "\n"
     ]
    },
    {
     "name": "stderr",
     "output_type": "stream",
     "text": [
      "/home/rafal/.local/lib/python3.10/site-packages/sklearn/svm/_base.py:1235: ConvergenceWarning: Liblinear failed to converge, increase the number of iterations.\n",
      "  warnings.warn(\n"
     ]
    }
   ],
   "source": [
    "from sklearn.linear_model import LogisticRegression\n",
    "from sklearn.metrics import classification_report\n",
    "\n",
    "im_linear_regression_model = LogisticRegression(\n",
    "    max_iter=40, n_jobs=-1, solver='liblinear')\n",
    "im_linear_regression_model.fit(train_X, train_y)\n",
    "\n",
    "im_lr_predictions = im_linear_regression_model.predict_proba(test_X)[:, 1]\n",
    "im_lr_predictions_binary = (im_lr_predictions >= 0.5).astype(int)\n",
    "\n",
    "print(classification_report(test_y, im_lr_predictions_binary))"
   ]
  },
  {
   "cell_type": "markdown",
   "metadata": {},
   "source": [
    "#### 4.2 Random Forest"
   ]
  },
  {
   "cell_type": "code",
   "execution_count": 36,
   "metadata": {},
   "outputs": [
    {
     "name": "stdout",
     "output_type": "stream",
     "text": [
      "              precision    recall  f1-score   support\n",
      "\n",
      "           0       1.00      1.00      1.00     56863\n",
      "           1       0.91      0.82      0.86        99\n",
      "\n",
      "    accuracy                           1.00     56962\n",
      "   macro avg       0.95      0.91      0.93     56962\n",
      "weighted avg       1.00      1.00      1.00     56962\n",
      "\n"
     ]
    }
   ],
   "source": [
    "from sklearn.metrics import classification_report\n",
    "from sklearn.ensemble import RandomForestClassifier\n",
    "\n",
    "im_random_forest_model = RandomForestClassifier(\n",
    "    n_estimators=100, random_state=42, max_features=10, max_depth=20, n_jobs=-1)\n",
    "im_random_forest_model.fit(train_X, train_y)\n",
    "\n",
    "im_rf_predictions = im_random_forest_model.predict_proba(test_X)[:, 1]\n",
    "im_rf_predictions_binary = (im_rf_predictions >= 0.5).astype(int)\n",
    "\n",
    "print(classification_report(test_y, im_rf_predictions_binary))"
   ]
  },
  {
   "cell_type": "markdown",
   "metadata": {},
   "source": [
    "#### 4.3 XGBoost"
   ]
  },
  {
   "cell_type": "code",
   "execution_count": 35,
   "metadata": {},
   "outputs": [
    {
     "name": "stderr",
     "output_type": "stream",
     "text": [
      "/usr/lib/python3/dist-packages/xgboost/sklearn.py:1224: UserWarning: The use of label encoder in XGBClassifier is deprecated and will be removed in a future release. To remove this warning, do the following: 1) Pass option use_label_encoder=False when constructing XGBClassifier object; and 2) Encode your labels (y) as integers starting with 0, i.e. 0, 1, 2, ..., [num_class - 1].\n",
      "  warnings.warn(label_encoder_deprecation_msg, UserWarning)\n"
     ]
    },
    {
     "name": "stdout",
     "output_type": "stream",
     "text": [
      "[18:15:48] WARNING: ./src/learner.cc:1115: Starting in XGBoost 1.3.0, the default evaluation metric used with the objective 'binary:logistic' was changed from 'error' to 'logloss'. Explicitly set eval_metric if you'd like to restore the old behavior.\n",
      "              precision    recall  f1-score   support\n",
      "\n",
      "           0       1.00      1.00      1.00     56863\n",
      "           1       0.92      0.81      0.86        99\n",
      "\n",
      "    accuracy                           1.00     56962\n",
      "   macro avg       0.96      0.90      0.93     56962\n",
      "weighted avg       1.00      1.00      1.00     56962\n",
      "\n"
     ]
    }
   ],
   "source": [
    "from xgboost import XGBClassifier\n",
    "from sklearn.metrics import classification_report\n",
    "import pandas as pd\n",
    "\n",
    "\n",
    "# Ensure compatibility with newer pandas versions\n",
    "if not hasattr(pd, 'Int64Index'):\n",
    "    pd.Int64Index = pd.Index\n",
    "\n",
    "im_xgb_model = XGBClassifier(n_estimators=200, random_state=42,\n",
    "                             max_depth=20, n_jobs=-1, )\n",
    "im_xgb_model.fit(train_X, train_y)\n",
    "\n",
    "im_xgb_predictions = im_xgb_model.predict_proba(test_X)[:, 1]\n",
    "im_xgb_predictions_binary = (im_xgb_predictions >= 0.5).astype(int)\n",
    "\n",
    "print(classification_report(test_y, im_xgb_predictions_binary))"
   ]
  },
  {
   "cell_type": "markdown",
   "metadata": {},
   "source": [
    "### 5. Other method of sampling - SMOTE"
   ]
  },
  {
   "cell_type": "code",
   "execution_count": 97,
   "metadata": {},
   "outputs": [
    {
     "name": "stdout",
     "output_type": "stream",
     "text": [
      "Before SMOTE:\n",
      "Class\n",
      "0    227452\n",
      "1       393\n",
      "Name: count, dtype: int64\n",
      "\n",
      "After SMOTE:\n",
      "Class\n",
      "1    227452\n",
      "0    227452\n",
      "Name: count, dtype: int64\n"
     ]
    }
   ],
   "source": [
    "from imblearn.over_sampling import SMOTE\n",
    "import pandas as pd\n",
    "\n",
    "\n",
    "smote = SMOTE(random_state=42)\n",
    "train_X_smote, train_y_smote = smote.fit_resample(train_X, train_y)\n",
    "\n",
    "print(\"Before SMOTE:\")\n",
    "print(train_y.value_counts())\n",
    "\n",
    "print(\"\\nAfter SMOTE:\")\n",
    "print(pd.Series(train_y_smote).value_counts())"
   ]
  },
  {
   "cell_type": "markdown",
   "metadata": {},
   "source": [
    "#### 5.1 Model training Logistic Regression"
   ]
  },
  {
   "cell_type": "code",
   "execution_count": 98,
   "metadata": {},
   "outputs": [
    {
     "name": "stderr",
     "output_type": "stream",
     "text": [
      "/home/rafal/.local/lib/python3.10/site-packages/sklearn/linear_model/_logistic.py:1271: UserWarning: 'n_jobs' > 1 does not have any effect when 'solver' is set to 'liblinear'. Got 'n_jobs' = 12.\n",
      "  warnings.warn(\n"
     ]
    },
    {
     "name": "stdout",
     "output_type": "stream",
     "text": [
      "              precision    recall  f1-score   support\n",
      "\n",
      "           0       1.00      0.99      1.00     56863\n",
      "           1       0.15      0.90      0.25        99\n",
      "\n",
      "    accuracy                           0.99     56962\n",
      "   macro avg       0.57      0.94      0.62     56962\n",
      "weighted avg       1.00      0.99      0.99     56962\n",
      "\n"
     ]
    }
   ],
   "source": [
    "smote_linear_regression_model = LogisticRegression(\n",
    "    max_iter=10000, penalty='l1', solver='liblinear', n_jobs=-1)\n",
    "smote_linear_regression_model.fit(train_X_smote, train_y_smote)\n",
    "\n",
    "smote_lr_predictions = smote_linear_regression_model.predict_proba(test_X)[\n",
    "    :, 1]\n",
    "smote_lr_predictions_binary = (smote_lr_predictions >= 0.5).astype(int)\n",
    "\n",
    "print(classification_report(test_y, smote_lr_predictions_binary))"
   ]
  },
  {
   "cell_type": "markdown",
   "metadata": {},
   "source": [
    "#### 5.2 Model training Random Forest"
   ]
  },
  {
   "cell_type": "code",
   "execution_count": 99,
   "metadata": {},
   "outputs": [
    {
     "name": "stdout",
     "output_type": "stream",
     "text": [
      "              precision    recall  f1-score   support\n",
      "\n",
      "           0       1.00      1.00      1.00     56863\n",
      "           1       0.79      0.84      0.81        99\n",
      "\n",
      "    accuracy                           1.00     56962\n",
      "   macro avg       0.90      0.92      0.91     56962\n",
      "weighted avg       1.00      1.00      1.00     56962\n",
      "\n"
     ]
    }
   ],
   "source": [
    "smote_random_forest_model = RandomForestClassifier(\n",
    "    n_estimators=100, random_state=42, max_features=10, max_depth=20, n_jobs=-1)\n",
    "smote_random_forest_model.fit(train_X_smote, train_y_smote)\n",
    "\n",
    "smote_rf_predictions = smote_random_forest_model.predict_proba(test_X)[:, 1]\n",
    "smote_rf_predictions_binary = (smote_rf_predictions >= 0.5).astype(int)\n",
    "\n",
    "print(classification_report(test_y, smote_rf_predictions_binary))"
   ]
  },
  {
   "cell_type": "markdown",
   "metadata": {},
   "source": [
    "#### 5.3 Model training KNN"
   ]
  },
  {
   "cell_type": "code",
   "execution_count": 100,
   "metadata": {},
   "outputs": [
    {
     "name": "stdout",
     "output_type": "stream",
     "text": [
      "              precision    recall  f1-score   support\n",
      "\n",
      "           0       1.00      0.88      0.94     56863\n",
      "           1       0.01      0.53      0.02        99\n",
      "\n",
      "    accuracy                           0.88     56962\n",
      "   macro avg       0.50      0.70      0.48     56962\n",
      "weighted avg       1.00      0.88      0.94     56962\n",
      "\n"
     ]
    }
   ],
   "source": [
    "from sklearn.neighbors import KNeighborsClassifier\n",
    "from sklearn.metrics import classification_report\n",
    "\n",
    "smote_knn_model = KNeighborsClassifier(n_neighbors=5)\n",
    "smote_knn_model.fit(train_X_smote, train_y_smote)\n",
    "\n",
    "smote_knn_predictions = smote_knn_model.predict_proba(test_X)[:, 1]\n",
    "smote_knn_predictions_binary = (smote_knn_predictions > 0).astype(int)\n",
    "\n",
    "print(classification_report(test_y, smote_knn_predictions_binary))"
   ]
  },
  {
   "cell_type": "markdown",
   "metadata": {},
   "source": [
    "#### 5.4 Model training XGBoost"
   ]
  },
  {
   "cell_type": "code",
   "execution_count": 101,
   "metadata": {},
   "outputs": [
    {
     "name": "stdout",
     "output_type": "stream",
     "text": [
      "[18:55:24] WARNING: ./src/learner.cc:576: \n",
      "Parameters: { \"max_features\" } might not be used.\n",
      "\n",
      "  This could be a false alarm, with some parameters getting used by language bindings but\n",
      "  then being mistakenly passed down to XGBoost core, or some parameter actually being used\n",
      "  but getting flagged wrongly here. Please open an issue if you find any such cases.\n",
      "\n",
      "\n"
     ]
    },
    {
     "name": "stderr",
     "output_type": "stream",
     "text": [
      "/usr/lib/python3/dist-packages/xgboost/sklearn.py:1224: UserWarning: The use of label encoder in XGBClassifier is deprecated and will be removed in a future release. To remove this warning, do the following: 1) Pass option use_label_encoder=False when constructing XGBClassifier object; and 2) Encode your labels (y) as integers starting with 0, i.e. 0, 1, 2, ..., [num_class - 1].\n",
      "  warnings.warn(label_encoder_deprecation_msg, UserWarning)\n"
     ]
    },
    {
     "name": "stdout",
     "output_type": "stream",
     "text": [
      "[18:55:26] WARNING: ./src/learner.cc:1115: Starting in XGBoost 1.3.0, the default evaluation metric used with the objective 'binary:logistic' was changed from 'error' to 'logloss'. Explicitly set eval_metric if you'd like to restore the old behavior.\n",
      "              precision    recall  f1-score   support\n",
      "\n",
      "           0       1.00      1.00      1.00     56863\n",
      "           1       0.84      0.83      0.83        99\n",
      "\n",
      "    accuracy                           1.00     56962\n",
      "   macro avg       0.92      0.91      0.92     56962\n",
      "weighted avg       1.00      1.00      1.00     56962\n",
      "\n"
     ]
    }
   ],
   "source": [
    "# Ensure compatibility with newer pandas versions\n",
    "if not hasattr(pd, 'Int64Index'):\n",
    "    pd.Int64Index = pd.Index\n",
    "\n",
    "smote_xgb_model = XGBClassifier(n_estimators=100, random_state=42,\n",
    "                                max_depth=20, max_features=10, n_jobs=-1)\n",
    "smote_xgb_model.fit(train_X_smote, train_y_smote, eval_set=[\n",
    "    (test_X, test_y)], verbose=False)\n",
    "\n",
    "smote_xgb_predictions = smote_xgb_model.predict_proba(test_X)[:, 1]\n",
    "smote_xgb_predictions_binary = (smote_xgb_predictions >= 0.5).astype(int)\n",
    "\n",
    "print(classification_report(test_y, smote_xgb_predictions_binary))"
   ]
  },
  {
   "cell_type": "code",
   "execution_count": 102,
   "metadata": {},
   "outputs": [
    {
     "data": {
      "text/plain": [
       "array([0.2, 0. , 0.2, ..., 0. , 0. , 0. ])"
      ]
     },
     "execution_count": 102,
     "metadata": {},
     "output_type": "execute_result"
    }
   ],
   "source": [
    "models = {\"Logistic Regression\": smote_linear_regression_model,\n",
    "          \"Random Forest\": smote_random_forest_model,\n",
    "          \"KNN\": smote_knn_model,\n",
    "          \"XGBoost\": smote_xgb_model}\n",
    "\n",
    "predictions = {\"Logistic Regression\": smote_lr_predictions,\n",
    "               \"Random Forest\": smote_rf_predictions,\n",
    "               \"KNN\": smote_knn_predictions,\n",
    "               \"XGBoost\": smote_xgb_predictions}\n",
    "\n",
    "model_threshold = {\"Logistic Regression\": 0.5,\n",
    "                   \"Random Forest\": 0.5,\n",
    "                   \"KNN\": 0.001,\n",
    "                   \"XGBoost\": 0.5}\n",
    "\n",
    "dir_name = {\"Logistic Regression\": \"LR\",\n",
    "            \"Random Forest\": \"RF\",\n",
    "            \"KNN\": \"KNN\",\n",
    "            \"XGBoost\": \"XGB\"}\n",
    "\n",
    "knn_predictions"
   ]
  },
  {
   "cell_type": "code",
   "execution_count": 103,
   "metadata": {},
   "outputs": [
    {
     "name": "stdout",
     "output_type": "stream",
     "text": [
      "                 Model  Precision    Recall  F1 Score  Accuracy\n",
      "0  Logistic Regression   0.145188  0.898990  0.250000  0.990625\n",
      "1        Random Forest   0.790476  0.838384  0.813725  0.999333\n",
      "2                  KNN   0.007808  0.525253  0.015387  0.883168\n",
      "3              XGBoost   0.836735  0.828283  0.832487  0.999421\n"
     ]
    }
   ],
   "source": [
    "from sklearn.metrics import precision_score, recall_score, f1_score, accuracy_score\n",
    "\n",
    "# Initialize a dictionary to store the metrics\n",
    "metrics = {\"Model\": [], \"Precision\": [],\n",
    "           \"Recall\": [], \"F1 Score\": [], \"Accuracy\": []}\n",
    "\n",
    "# Calculate metrics for each model\n",
    "for name, model in models.items():\n",
    "    thr = model_threshold[name]\n",
    "    y_pred_binary = (predictions[name] >= thr).astype(int)\n",
    "    precision = precision_score(test_y, y_pred_binary)\n",
    "    recall = recall_score(test_y, y_pred_binary)\n",
    "    f1 = f1_score(test_y, y_pred_binary)\n",
    "    accuracy = accuracy_score(test_y, y_pred_binary)\n",
    "\n",
    "    metrics[\"Model\"].append(name)\n",
    "    metrics[\"Precision\"].append(precision)\n",
    "    metrics[\"Recall\"].append(recall)\n",
    "    metrics[\"F1 Score\"].append(f1)\n",
    "    metrics[\"Accuracy\"].append(accuracy)\n",
    "\n",
    "# Convert the metrics dictionary to a DataFrame for better visualization\n",
    "metrics_df = pd.DataFrame(metrics)\n",
    "print(metrics_df)"
   ]
  },
  {
   "cell_type": "markdown",
   "metadata": {},
   "source": [
    "### 6. Other method of sampling - Bootstraping"
   ]
  },
  {
   "cell_type": "code",
   "execution_count": 116,
   "metadata": {},
   "outputs": [
    {
     "name": "stdout",
     "output_type": "stream",
     "text": [
      "Bootstrap sample 1:\n",
      "X_sample shape: (227845, 30), y_sample shape: (227845,)\n",
      "Bootstrap sample 2:\n",
      "X_sample shape: (227845, 30), y_sample shape: (227845,)\n",
      "Bootstrap sample 3:\n",
      "X_sample shape: (227845, 30), y_sample shape: (227845,)\n",
      "Bootstrap sample 4:\n",
      "X_sample shape: (227845, 30), y_sample shape: (227845,)\n",
      "Bootstrap sample 5:\n",
      "X_sample shape: (227845, 30), y_sample shape: (227845,)\n"
     ]
    }
   ],
   "source": [
    "from sklearn.utils import resample\n",
    "\n",
    "n_bootstrap_samples = 5\n",
    "\n",
    "bootstrap_samples = []\n",
    "for _ in range(n_bootstrap_samples):\n",
    "    X_sample, y_sample = resample(\n",
    "        train_X, train_y, replace=True, random_state=42)\n",
    "    bootstrap_samples.append((X_sample, y_sample))\n",
    "\n",
    "for i, (X_sample, y_sample) in enumerate(bootstrap_samples):\n",
    "    print(f\"Bootstrap sample {i+1}:\")\n",
    "    print(\n",
    "        f\"X_sample shape: {X_sample.shape}, y_sample shape: {y_sample.shape}\")"
   ]
  },
  {
   "cell_type": "code",
   "execution_count": 39,
   "metadata": {},
   "outputs": [
    {
     "name": "stdout",
     "output_type": "stream",
     "text": [
      "\n",
      "Training on Bootstrap Sample 1...\n",
      "Accuracy on Bootstrap Sample 1: 0.9781\n",
      "\n",
      "Training on Bootstrap Sample 2...\n",
      "Accuracy on Bootstrap Sample 2: 0.9781\n",
      "\n",
      "Training on Bootstrap Sample 3...\n",
      "Accuracy on Bootstrap Sample 3: 0.9781\n",
      "\n",
      "Training on Bootstrap Sample 4...\n",
      "Accuracy on Bootstrap Sample 4: 0.9781\n",
      "\n",
      "Training on Bootstrap Sample 5...\n",
      "Accuracy on Bootstrap Sample 5: 0.9781\n",
      "\n",
      "Test Set Evaluation:\n",
      "Accuracy: 0.9772\n",
      "Confusion Matrix:\n",
      "[[55575  1288]\n",
      " [    8    91]]\n",
      "\n",
      "Classification Report:\n",
      "              precision    recall  f1-score   support\n",
      "\n",
      "           0       1.00      0.98      0.99     56863\n",
      "           1       0.07      0.92      0.12        99\n",
      "\n",
      "    accuracy                           0.98     56962\n",
      "   macro avg       0.53      0.95      0.56     56962\n",
      "weighted avg       1.00      0.98      0.99     56962\n",
      "\n"
     ]
    }
   ],
   "source": [
    "from sklearn.linear_model import LogisticRegression\n",
    "from sklearn.preprocessing import StandardScaler\n",
    "from sklearn.metrics import classification_report, accuracy_score\n",
    "\n",
    "logistic_model = LogisticRegression(\n",
    "    class_weight='balanced', max_iter=1000, random_state=42)\n",
    "scaler = StandardScaler()\n",
    "\n",
    "\n",
    "for i, (X_sample, y_sample) in enumerate(bootstrap_samples):\n",
    "    print(f\"\\nTraining on Bootstrap Sample {i + 1}...\")\n",
    "    X_sample_scaled = scaler.fit_transform(X_sample)\n",
    "    logistic_model.fit(X_sample_scaled, y_sample)\n",
    "    y_pred = logistic_model.predict(X_sample_scaled)\n",
    "    accuracy = accuracy_score(y_sample, y_pred)\n",
    "    print(f\"Accuracy on Bootstrap Sample {i + 1}: {accuracy:.4f}\")\n",
    "\n",
    "test_X_scaled = scaler.transform(test_X)\n",
    "y_test_pred = logistic_model.predict(test_X_scaled)\n",
    "print(\"\\nTest Set Evaluation:\")\n",
    "print(f\"Accuracy: {accuracy_score(test_y, y_test_pred):.4f}\")\n",
    "print(\"Confusion Matrix:\")\n",
    "print(confusion_matrix(test_y, y_test_pred))\n",
    "print(\"\\nClassification Report:\")\n",
    "print(classification_report(test_y, y_test_pred))"
   ]
  },
  {
   "cell_type": "markdown",
   "metadata": {},
   "source": [
    "### 7. Polynomial Features"
   ]
  },
  {
   "cell_type": "code",
   "execution_count": 117,
   "metadata": {},
   "outputs": [
    {
     "name": "stdout",
     "output_type": "stream",
     "text": [
      "              precision    recall  f1-score   support\n",
      "\n",
      "           0       1.00      1.00      1.00     56863\n",
      "           1       0.83      0.64      0.72        99\n",
      "\n",
      "    accuracy                           1.00     56962\n",
      "   macro avg       0.91      0.82      0.86     56962\n",
      "weighted avg       1.00      1.00      1.00     56962\n",
      "\n"
     ]
    },
    {
     "name": "stderr",
     "output_type": "stream",
     "text": [
      "/home/rafal/.local/lib/python3.10/site-packages/sklearn/linear_model/_logistic.py:469: ConvergenceWarning: lbfgs failed to converge (status=1):\n",
      "STOP: TOTAL NO. of ITERATIONS REACHED LIMIT.\n",
      "\n",
      "Increase the number of iterations (max_iter) or scale the data as shown in:\n",
      "    https://scikit-learn.org/stable/modules/preprocessing.html\n",
      "Please also refer to the documentation for alternative solver options:\n",
      "    https://scikit-learn.org/stable/modules/linear_model.html#logistic-regression\n",
      "  n_iter_i = _check_optimize_result(\n"
     ]
    }
   ],
   "source": [
    "from sklearn.preprocessing import PolynomialFeatures\n",
    "\n",
    "poly = PolynomialFeatures(degree=2, interaction_only=True, include_bias=False)\n",
    "train_X_poly = poly.fit_transform(train_X)\n",
    "test_X_poly = poly.transform(test_X)\n",
    "\n",
    "linear_regression_model = LogisticRegression(max_iter=1000)\n",
    "linear_regression_model.fit(train_X_poly, train_y)\n",
    "\n",
    "lr_predictions = linear_regression_model.predict_proba(test_X_poly)[:, 1]\n",
    "lr_predictions_binary = (lr_predictions >= 0.5).astype(int)\n",
    "\n",
    "print(classification_report(test_y, lr_predictions_binary))"
   ]
  }
 ],
 "metadata": {
  "kernelspec": {
   "display_name": "Python 3",
   "language": "python",
   "name": "python3"
  },
  "language_info": {
   "codemirror_mode": {
    "name": "ipython",
    "version": 3
   },
   "file_extension": ".py",
   "mimetype": "text/x-python",
   "name": "python",
   "nbconvert_exporter": "python",
   "pygments_lexer": "ipython3",
   "version": "3.10.12"
  }
 },
 "nbformat": 4,
 "nbformat_minor": 2
}
